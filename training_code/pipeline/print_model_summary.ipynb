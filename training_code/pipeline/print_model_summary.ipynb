{
 "cells": [
  {
   "cell_type": "code",
   "execution_count": 3,
   "metadata": {},
   "outputs": [],
   "source": [
    "!export TF_CPP_MIN_LOG_LEVEL=2 TF_CPP_MIN_LOG_LEVEL=2"
   ]
  },
  {
   "cell_type": "code",
   "execution_count": 4,
   "metadata": {},
   "outputs": [
    {
     "name": "stdout",
     "output_type": "stream",
     "text": [
      "INFO:tensorflow:Using MirroredStrategy with devices ('/job:localhost/replica:0/task:0/device:GPU:0',)\n"
     ]
    },
    {
     "name": "stdout",
     "output_type": "stream",
     "text": [
      "INFO:tensorflow:Reduce to /job:localhost/replica:0/task:0/device:CPU:0 then broadcast to ('/job:localhost/replica:0/task:0/device:CPU:0',).\n",
      "INFO:tensorflow:Reduce to /job:localhost/replica:0/task:0/device:CPU:0 then broadcast to ('/job:localhost/replica:0/task:0/device:CPU:0',).\n",
      "INFO:tensorflow:Reduce to /job:localhost/replica:0/task:0/device:CPU:0 then broadcast to ('/job:localhost/replica:0/task:0/device:CPU:0',).\n",
      "INFO:tensorflow:Reduce to /job:localhost/replica:0/task:0/device:CPU:0 then broadcast to ('/job:localhost/replica:0/task:0/device:CPU:0',).\n",
      "Model: \"model_1\"\n",
      "_________________________________________________________________\n",
      "Layer (type)                 Output Shape              Param #   \n",
      "=================================================================\n",
      "input_2 (InputLayer)         [(None, 64, 144, 256, 3)] 0         \n",
      "_________________________________________________________________\n",
      "rescaling_1 (Rescaling)      (None, 64, 144, 256, 3)   0         \n",
      "_________________________________________________________________\n",
      "time_distributed_9 (TimeDist (None, 64, 144, 256, 3)   7         \n",
      "_________________________________________________________________\n",
      "time_distributed_10 (TimeDis (None, 64, 70, 126, 24)   1824      \n",
      "_________________________________________________________________\n",
      "time_distributed_11 (TimeDis (None, 64, 33, 61, 36)    21636     \n",
      "_________________________________________________________________\n",
      "time_distributed_12 (TimeDis (None, 64, 15, 29, 48)    43248     \n",
      "_________________________________________________________________\n",
      "time_distributed_13 (TimeDis (None, 64, 13, 27, 64)    27712     \n",
      "_________________________________________________________________\n",
      "time_distributed_14 (TimeDis (None, 64, 6, 13, 16)     9232      \n",
      "_________________________________________________________________\n",
      "time_distributed_15 (TimeDis (None, 64, 1248)          0         \n",
      "_________________________________________________________________\n",
      "time_distributed_16 (TimeDis (None, 64, 128)           159872    \n",
      "_________________________________________________________________\n",
      "time_distributed_17 (TimeDis (None, 64, 128)           0         \n",
      "_________________________________________________________________\n",
      "rnn_1 (RNN)                  (None, 64, 4)             22398     \n",
      "=================================================================\n",
      "Total params: 285,929\n",
      "Trainable params: 285,922\n",
      "Non-trainable params: 7\n",
      "_________________________________________________________________\n"
     ]
    }
   ],
   "source": [
    "import pickle\n",
    "\n",
    "import numpy as np\n",
    "from mpl_toolkits.mplot3d import Axes3D\n",
    "import matplotlib.pyplot as plt\n",
    "\n",
    "from tensorflow import keras\n",
    "import kerasncp as kncp\n",
    "\n",
    "import os\n",
    "from typing import Iterable, Dict\n",
    "import tensorflow as tf\n",
    "import kerasncp as kncp\n",
    "from kerasncp.tf import LTCCell, WiredCfcCell\n",
    "from tensorflow import keras\n",
    "import numpy as np\n",
    "from matplotlib.image import imread\n",
    "from tqdm import tqdm\n",
    "from PIL import Image\n",
    "import pandas as pd\n",
    "import time\n",
    "from keras_models import generate_ncp_model\n",
    "from train_test_loader import get_dataset_multi, get_val_dataset_multi\n",
    "\n",
    "def tlen(dataset):\n",
    "    for (ix, _) in enumerate(dataset):\n",
    "        pass\n",
    "    return ix\n",
    "\n",
    "training_root = \"../quadrant_wise_dataset/mix_goal_heights_diff\"\n",
    "# val_root = \"../fly_to_target_dataset/test_data\"\n",
    "DROPOUT = 0.1\n",
    "\n",
    "DEFAULT_NCP_SEED = 22222\n",
    "\n",
    "IMAGE_SHAPE = (144, 256, 3)\n",
    "IMAGE_SHAPE_CV = (IMAGE_SHAPE[1], IMAGE_SHAPE[0])\n",
    "\n",
    "batch_size = None\n",
    "seq_len = 64\n",
    "augmentation_params = None\n",
    "single_step = False\n",
    "no_norm_layer = False\n",
    "\n",
    "decay_rate: float = 0.85\n",
    "lr: float = 0.001\n",
    "lr_schedule = keras.optimizers.schedules.ExponentialDecay(initial_learning_rate=lr, decay_steps=500,\n",
    "                                                            decay_rate=decay_rate, staircase=True)\n",
    "#Adam optimizer\n",
    "optimizer = keras.optimizers.Adam(learning_rate=lr_schedule)\n",
    "\n",
    "gpus = tf.config.list_logical_devices('GPU')\n",
    "strategy = tf.distribute.MirroredStrategy(gpus)\n",
    "with strategy.scope():\n",
    "    mymodel = generate_ncp_model(seq_len, IMAGE_SHAPE, augmentation_params, batch_size, DEFAULT_NCP_SEED, single_step, no_norm_layer)\n",
    "    mymodel.compile(optimizer=optimizer, loss=\"mean_squared_error\", metrics=['mse'])\n",
    "    # mymodel.load_weights('saved_models/retrain_diff_goal_mix_3to5_wscheduler0.85_seed22222_lr0.001_trainloss0.00050_epoch100.h5')\n",
    "\n",
    "    mymodel.summary()"
   ]
  },
  {
   "cell_type": "code",
   "execution_count": 8,
   "metadata": {},
   "outputs": [],
   "source": [
    "\n",
    "def print_model_summary_with_activations(model):\n",
    "    \"\"\"Prints the model summary along with activation functions\"\"\"\n",
    "    print(\"\\nModel Summary with Activation Functions:\\n\")\n",
    "    print(f\"{'Layer Name':<30}{'Layer Type':<25}{'Activation Function':<20}{'Param #':<10}\")\n",
    "    print(\"=\" * 100)\n",
    "\n",
    "    for layer in model.layers:\n",
    "        # Check if it's a TimeDistributed layer\n",
    "        if isinstance(layer, keras.layers.TimeDistributed):\n",
    "            wrapped_layer = layer.layer  # Extract the inner layer\n",
    "            activation = getattr(wrapped_layer, \"activation\", None)\n",
    "            activation_name = activation.__name__ if activation else \"-\"\n",
    "            layer_type = f\"TimeDistributed({wrapped_layer.__class__.__name__})\"\n",
    "        else:\n",
    "            activation = getattr(layer, \"activation\", None)\n",
    "            activation_name = activation.__name__ if activation else \"-\"\n",
    "            layer_type = layer.__class__.__name__\n",
    "\n",
    "        print(f\"{layer.name:<30}{layer_type:<30}{activation_name:<20}{layer.count_params():<10}\")\n",
    "\n",
    "    print(\"=\" * 100)\n",
    "    print(f\"Total Parameters: {model.count_params()}\")\n",
    "\n",
    "\n"
   ]
  },
  {
   "cell_type": "code",
   "execution_count": 9,
   "metadata": {},
   "outputs": [
    {
     "name": "stdout",
     "output_type": "stream",
     "text": [
      "\n",
      "Model Summary with Activation Functions:\n",
      "\n",
      "Layer Name                    Layer Type               Activation Function Param #   \n",
      "====================================================================================================\n",
      "input_2                       InputLayer                    -                   0         \n",
      "rescaling_1                   Rescaling                     -                   0         \n",
      "time_distributed_9            TimeDistributed(Normalization)-                   7         \n",
      "time_distributed_10           TimeDistributed(Conv2D)       relu                1824      \n",
      "time_distributed_11           TimeDistributed(Conv2D)       relu                21636     \n",
      "time_distributed_12           TimeDistributed(Conv2D)       relu                43248     \n",
      "time_distributed_13           TimeDistributed(Conv2D)       relu                27712     \n",
      "time_distributed_14           TimeDistributed(Conv2D)       relu                9232      \n",
      "time_distributed_15           TimeDistributed(Flatten)      -                   0         \n",
      "time_distributed_16           TimeDistributed(Dense)        linear              159872    \n",
      "time_distributed_17           TimeDistributed(Dropout)      -                   0         \n",
      "rnn_1                         RNN                           -                   22398     \n",
      "====================================================================================================\n",
      "Total Parameters: 285929\n"
     ]
    }
   ],
   "source": [
    "print_model_summary_with_activations(mymodel)"
   ]
  }
 ],
 "metadata": {
  "kernelspec": {
   "display_name": "base",
   "language": "python",
   "name": "python3"
  },
  "language_info": {
   "codemirror_mode": {
    "name": "ipython",
    "version": 3
   },
   "file_extension": ".py",
   "mimetype": "text/x-python",
   "name": "python",
   "nbconvert_exporter": "python",
   "pygments_lexer": "ipython3",
   "version": "3.8.12"
  }
 },
 "nbformat": 4,
 "nbformat_minor": 2
}
